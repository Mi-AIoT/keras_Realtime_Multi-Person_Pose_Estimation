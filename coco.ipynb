{
 "cells": [
  {
   "cell_type": "code",
   "execution_count": 1,
   "metadata": {},
   "outputs": [],
   "source": [
    "# This is actually dremovd@github code for calculating coco metric. "
   ]
  },
  {
   "cell_type": "code",
   "execution_count": 2,
   "metadata": {},
   "outputs": [],
   "source": [
    "import sys\n",
    "import pandas as pd"
   ]
  },
  {
   "cell_type": "code",
   "execution_count": 3,
   "metadata": {},
   "outputs": [],
   "source": [
    "import os\n",
    "\n",
    "os.environ['CUDA_DEVICE_ORDER']='PCI_BUS_ID'\n",
    "os.environ['CUDA_VISIBLE_DEVICES']='0'"
   ]
  },
  {
   "cell_type": "markdown",
   "metadata": {},
   "source": [
    "Create keras model and load weights"
   ]
  },
  {
   "cell_type": "code",
   "execution_count": 4,
   "metadata": {},
   "outputs": [
    {
     "name": "stdout",
     "output_type": "stream",
     "text": [
      "3.6.7 |Anaconda, Inc.| (default, Oct 23 2018, 19:16:44) \n",
      "[GCC 7.3.0]\n"
     ]
    },
    {
     "name": "stderr",
     "output_type": "stream",
     "text": [
      "Using TensorFlow backend.\n"
     ]
    },
    {
     "name": "stdout",
     "output_type": "stream",
     "text": [
      "/DATA/hqfang/ev_project/reference/keras_Realtime_Multi-Person_Pose_Estimation\n",
      "['', '/DATA/hqfang/ev_project/reference/keras_Realtime_Multi-Person_Pose_Estimation', '/DATA/hqfang/synopsys-caffe/distribute/python', '/DATA/hqfang/anaconda2/envs/tensorflow/lib/python36.zip', '/DATA/hqfang/anaconda2/envs/tensorflow/lib/python3.6', '/DATA/hqfang/anaconda2/envs/tensorflow/lib/python3.6/lib-dynload', '/DATA/hqfang/anaconda2/envs/tensorflow/lib/python3.6/site-packages', '/DATA/hqfang/anaconda2/envs/tensorflow/lib/python3.6/site-packages/IPython/extensions', '/home/hqfang/.ipython', '/DATA/hqfang/ev_project/reference/keras_Realtime_Multi-Person_Pose_Estimation/testing']\n"
     ]
    }
   ],
   "source": [
    "print(sys.version)\n",
    "\n",
    "from keras.models import Model\n",
    "from model import get_testing_model\n",
    "model = get_testing_model(38, 19, 6)\n",
    "print(os.getcwd())\n",
    "sys.path.append('/DATA/hqfang/ev_project/reference/keras_Realtime_Multi-Person_Pose_Estimation/testing')\n",
    "print(sys.path)"
   ]
  },
  {
   "cell_type": "code",
   "execution_count": 5,
   "metadata": {},
   "outputs": [],
   "source": [
    "import os\n",
    "from coco_metric import per_image_scores, validation"
   ]
  },
  {
   "cell_type": "code",
   "execution_count": 6,
   "metadata": {},
   "outputs": [],
   "source": [
    "training_dir = './training/'\n",
    "trained_models = [\n",
    "    'weights'\n",
    "    #'weights-cpp-lr',\n",
    "    #'weights-python-last',\n",
    "]\n",
    "optimal_epoch_loss = 'val_weight_stage6_L1_loss'"
   ]
  },
  {
   "cell_type": "code",
   "execution_count": 7,
   "metadata": {},
   "outputs": [
    {
     "name": "stdout",
     "output_type": "stream",
     "text": [
      "Model 'weights', optimal loss: 78.969 at epoch 36\n",
      "./training/weights/weights.0036.h5\n",
      "loading annotations into memory...\n"
     ]
    },
    {
     "name": "stderr",
     "output_type": "stream",
     "text": [
      "\r",
      "  0%|          | 0/5000 [00:00<?, ?it/s]"
     ]
    },
    {
     "name": "stdout",
     "output_type": "stream",
     "text": [
      "Done (t=0.27s)\n",
      "creating index...\n",
      "index created!\n"
     ]
    },
    {
     "name": "stderr",
     "output_type": "stream",
     "text": [
      "100%|██████████| 5000/5000 [1:45:30<00:00,  1.24s/it]\n"
     ]
    },
    {
     "name": "stdout",
     "output_type": "stream",
     "text": [
      "Loading and preparing results...\n",
      "DONE (t=0.40s)\n",
      "creating index...\n",
      "index created!\n",
      "Running per image evaluation...\n",
      "Evaluate annotation type *keypoints*\n",
      "DONE (t=3.18s).\n",
      "Accumulating evaluation results...\n",
      "DONE (t=0.07s).\n",
      " Average Precision  (AP) @[ IoU=0.50:0.95 | area=   all | maxDets= 20 ] = 0.553\n",
      " Average Precision  (AP) @[ IoU=0.50      | area=   all | maxDets= 20 ] = 0.769\n",
      " Average Precision  (AP) @[ IoU=0.75      | area=   all | maxDets= 20 ] = 0.594\n",
      " Average Precision  (AP) @[ IoU=0.50:0.95 | area=medium | maxDets= 20 ] = 0.526\n",
      " Average Precision  (AP) @[ IoU=0.50:0.95 | area= large | maxDets= 20 ] = 0.606\n",
      " Average Recall     (AR) @[ IoU=0.50:0.95 | area=   all | maxDets= 20 ] = 0.590\n",
      " Average Recall     (AR) @[ IoU=0.50      | area=   all | maxDets= 20 ] = 0.783\n",
      " Average Recall     (AR) @[ IoU=0.75      | area=   all | maxDets= 20 ] = 0.626\n",
      " Average Recall     (AR) @[ IoU=0.50:0.95 | area=medium | maxDets= 20 ] = 0.535\n",
      " Average Recall     (AR) @[ IoU=0.50:0.95 | area= large | maxDets= 20 ] = 0.671\n"
     ]
    }
   ],
   "source": [
    "from sklearn.externals import joblib\n",
    "\n",
    "for trained_model in trained_models:\n",
    "    model_dir = os.path.join(training_dir, trained_model)\n",
    "    training_log = pd.read_csv(os.path.join(model_dir, 'training.csv'))\n",
    "    min_index = training_log[[optimal_epoch_loss]].idxmin()\n",
    "    min_epoch, min_loss = training_log.loc[min_index][['epoch', optimal_epoch_loss]].values[0]\n",
    "    print(\"Model '%s', optimal loss: %.3f at epoch %d\" % (trained_model, min_loss, min_epoch))\n",
    "    \n",
    "    epoch_weights_name = os.path.join(model_dir, 'weights.%04d.h5' % min_epoch)\n",
    "    print(epoch_weights_name)\n",
    "    model.load_weights(epoch_weights_name)\n",
    "    eval_result = validation(model, dump_name = trained_model)\n",
    "    joblib.dump(eval_result, 'metrics-raw-%s.dump' % trained_model)"
   ]
  },
  {
   "cell_type": "raw",
   "metadata": {},
   "source": []
  },
  {
   "cell_type": "code",
   "execution_count": 11,
   "metadata": {},
   "outputs": [
    {
     "data": {
      "text/plain": [
       "['metrics-raw-original.dump']"
      ]
     },
     "execution_count": 11,
     "metadata": {},
     "output_type": "execute_result"
    }
   ],
   "source": [
    "weights_path = os.path.join(os.getcwd(), \"model/keras/model.h5\") # orginal weights converted from caffe\n",
    "print(weights_path)\n",
    "model.load_weights(weights_path)\n",
    "eval_result_original = validation(model, dump_name = 'original')\n",
    "joblib.dump(eval_result_original, 'metrics-raw-original.dump')"
   ]
  },
  {
   "cell_type": "code",
   "execution_count": 13,
   "metadata": {},
   "outputs": [],
   "source": [
    "raw_eval_list = !ls metrics-raw*.dump"
   ]
  },
  {
   "cell_type": "code",
   "execution_count": 14,
   "metadata": {},
   "outputs": [
    {
     "name": "stdout",
     "output_type": "stream",
     "text": [
      "\n",
      "metrics-raw-original.dump\n",
      " Average Precision  (AP) @[ IoU=0.50:0.95 | area=   all | maxDets= 20 ] = 0.560\n",
      " Average Precision  (AP) @[ IoU=0.50      | area=   all | maxDets= 20 ] = 0.780\n",
      " Average Precision  (AP) @[ IoU=0.75      | area=   all | maxDets= 20 ] = 0.603\n",
      " Average Precision  (AP) @[ IoU=0.50:0.95 | area=medium | maxDets= 20 ] = 0.542\n",
      " Average Precision  (AP) @[ IoU=0.50:0.95 | area= large | maxDets= 20 ] = 0.594\n",
      " Average Recall     (AR) @[ IoU=0.50:0.95 | area=   all | maxDets= 20 ] = 0.599\n",
      " Average Recall     (AR) @[ IoU=0.50      | area=   all | maxDets= 20 ] = 0.795\n",
      " Average Recall     (AR) @[ IoU=0.75      | area=   all | maxDets= 20 ] = 0.639\n",
      " Average Recall     (AR) @[ IoU=0.50:0.95 | area=medium | maxDets= 20 ] = 0.551\n",
      " Average Recall     (AR) @[ IoU=0.50:0.95 | area= large | maxDets= 20 ] = 0.668\n"
     ]
    },
    {
     "name": "stderr",
     "output_type": "stream",
     "text": [
      "/DATA/hqfang/ev_project/reference/keras_Realtime_Multi-Person_Pose_Estimation/testing/coco_metric.py:346: RuntimeWarning: invalid value encountered in double_scalars\n",
      "  scores['average'] = np.mean(np.sum(matches != 0, axis=1)) / scores['gt_person_count']\n"
     ]
    },
    {
     "name": "stdout",
     "output_type": "stream",
     "text": [
      "Average per-image score (not coco metric): 0.622\n"
     ]
    }
   ],
   "source": [
    "from sklearn.externals import joblib\n",
    "\n",
    "for raw_eval in raw_eval_list:\n",
    "    eval_result = joblib.load(raw_eval)\n",
    "    print(\"\\n\" + raw_eval)\n",
    "    eval_result.summarize()\n",
    "    scores = per_image_scores(eval_result)\n",
    "    scores.to_csv('%s-scores.csv' % raw_eval)\n",
    "    print(\"Average per-image score (not coco metric): %.3f\" % scores['average'].mean())"
   ]
  },
  {
   "cell_type": "code",
   "execution_count": null,
   "metadata": {
    "collapsed": true
   },
   "outputs": [],
   "source": []
  },
  {
   "cell_type": "code",
   "execution_count": null,
   "metadata": {
    "collapsed": true
   },
   "outputs": [],
   "source": []
  }
 ],
 "metadata": {
  "anaconda-cloud": {},
  "kernelspec": {
   "display_name": "Python 3",
   "language": "python",
   "name": "python3"
  },
  "language_info": {
   "codemirror_mode": {
    "name": "ipython",
    "version": 3
   },
   "file_extension": ".py",
   "mimetype": "text/x-python",
   "name": "python",
   "nbconvert_exporter": "python",
   "pygments_lexer": "ipython3",
   "version": "3.6.7"
  }
 },
 "nbformat": 4,
 "nbformat_minor": 1
}
